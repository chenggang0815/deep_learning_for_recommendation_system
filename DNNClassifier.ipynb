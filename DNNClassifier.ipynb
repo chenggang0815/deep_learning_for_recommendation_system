{
 "cells": [
  {
   "cell_type": "code",
   "execution_count": 6,
   "metadata": {},
   "outputs": [
    {
     "name": "stdout",
     "output_type": "stream",
     "text": [
      "ERROR! Session/line number was not unique in database. History logging moved to new session 163\n"
     ]
    }
   ],
   "source": [
    "import os\n",
    "import sys\n",
    "import tensorflow as tf"
   ]
  },
  {
   "cell_type": "code",
   "execution_count": 7,
   "metadata": {},
   "outputs": [],
   "source": [
    "DATA_URL = 'https://archive.ics.uci.edu/ml/machine-learning-databases/adult'\n",
    "TRAINING_FILE = 'adult.data'\n",
    "TRAINING_URL = '%s/%s' % (DATA_URL, TRAINING_FILE)\n",
    "EVAL_FILE = 'adult.test'\n",
    "EVAL_URL = '%s/%s' % (DATA_URL, EVAL_FILE)\n",
    "_CSV_COLUMN_DEFAULTS = [[0], [''], [0], [''], [0], [''], [''], [''], [''], [''],\n",
    "[0], [0], [0], [''], ['']]\n",
    "_CSV_COLUMNS = [\n",
    "    'age', 'workclass', 'fnlwgt', 'education', 'education_num',\n",
    "    'marital_status', 'occupation', 'relationship', 'race', 'gender',\n",
    "    'capital_gain', 'capital_loss', 'hours_per_week', 'native_country',\n",
    "    'income_bracket'\n",
    "]"
   ]
  },
  {
   "cell_type": "code",
   "execution_count": 8,
   "metadata": {},
   "outputs": [],
   "source": [
    "train_file = 'D:/data/adult.data'\n",
    "eval_file = 'D:/data/adult.test'"
   ]
  },
  {
   "cell_type": "code",
   "execution_count": 9,
   "metadata": {},
   "outputs": [],
   "source": [
    "dataset = tf.data.TextLineDataset(eval_file)"
   ]
  },
  {
   "cell_type": "code",
   "execution_count": 10,
   "metadata": {},
   "outputs": [
    {
     "name": "stdout",
     "output_type": "stream",
     "text": [
      "<TextLineDataset shapes: (), types: tf.string>\n"
     ]
    }
   ],
   "source": [
    "print(dataset)"
   ]
  },
  {
   "cell_type": "code",
   "execution_count": 11,
   "metadata": {},
   "outputs": [
    {
     "name": "stdout",
     "output_type": "stream",
     "text": [
      "b'25,Private,226802,11th,7,Never-married,Machine-op-inspct,Own-child,Black,Male,0,0,40,United-States,<=50K'\n"
     ]
    }
   ],
   "source": [
    "iterator1 = dataset.make_one_shot_iterator()\n",
    "x1 = iterator1.get_next()\n",
    "with tf.Session() as sess:\n",
    "    #for i in range(4):\n",
    "    print(sess.run(x1))"
   ]
  },
  {
   "cell_type": "code",
   "execution_count": 12,
   "metadata": {},
   "outputs": [],
   "source": [
    "def input_fn(data_file, num_epochs, shuffle, batch_size):\n",
    "  \"\"\"Generate an input function for the Estimator.\"\"\"\n",
    "  assert tf.gfile.Exists(data_file), (\n",
    "      '%s not found. Please make sure you have run census_dataset.py and '\n",
    "      'set the --data_dir argument to the correct path.' % data_file)\n",
    "\n",
    "  def parse_csv(value):\n",
    "    columns = tf.decode_csv(value, record_defaults=_CSV_COLUMN_DEFAULTS)\n",
    "    features = dict(zip(_CSV_COLUMNS, columns))\n",
    "    labels = features.pop('income_bracket')\n",
    "    classes = tf.equal(labels, '>50K')  # binary classification\n",
    "    return features, classes\n",
    "\n",
    "  # Extract lines from input files using the Dataset API.\n",
    "  dataset = tf.data.TextLineDataset(data_file)\n",
    "\n",
    "  if shuffle:\n",
    "    dataset = dataset.shuffle(buffer_size=_NUM_EXAMPLES['train'])\n",
    "\n",
    "  dataset = dataset.map(parse_csv, num_parallel_calls=5)\n",
    "\n",
    "  # We call repeat after shuffling, rather than before, to prevent separate\n",
    "  # epochs from blending together.\n",
    "  dataset = dataset.repeat(num_epochs)\n",
    "  dataset = dataset.batch(batch_size)\n",
    "  return dataset"
   ]
  },
  {
   "cell_type": "code",
   "execution_count": 13,
   "metadata": {},
   "outputs": [],
   "source": [
    "def build_model_columns():\n",
    "  \"\"\"Builds a set of wide and deep feature columns.\"\"\"\n",
    "  # Continuous variable columns\n",
    "  age = tf.feature_column.numeric_column('age')\n",
    "  education_num = tf.feature_column.numeric_column('education_num')\n",
    "  capital_gain = tf.feature_column.numeric_column('capital_gain')\n",
    "  capital_loss = tf.feature_column.numeric_column('capital_loss')\n",
    "  hours_per_week = tf.feature_column.numeric_column('hours_per_week')\n",
    "\n",
    "  education = tf.feature_column.categorical_column_with_vocabulary_list(\n",
    "      'education', [\n",
    "          'Bachelors', 'HS-grad', '11th', 'Masters', '9th', 'Some-college',\n",
    "          'Assoc-acdm', 'Assoc-voc', '7th-8th', 'Doctorate', 'Prof-school',\n",
    "          '5th-6th', '10th', '1st-4th', 'Preschool', '12th'])\n",
    "\n",
    "  marital_status = tf.feature_column.categorical_column_with_vocabulary_list(\n",
    "      'marital_status', [\n",
    "          'Married-civ-spouse', 'Divorced', 'Married-spouse-absent',\n",
    "          'Never-married', 'Separated', 'Married-AF-spouse', 'Widowed'])\n",
    "\n",
    "  relationship = tf.feature_column.categorical_column_with_vocabulary_list(\n",
    "      'relationship', [\n",
    "          'Husband', 'Not-in-family', 'Wife', 'Own-child', 'Unmarried',\n",
    "          'Other-relative'])\n",
    "\n",
    "  workclass = tf.feature_column.categorical_column_with_vocabulary_list(\n",
    "      'workclass', [\n",
    "          'Self-emp-not-inc', 'Private', 'State-gov', 'Federal-gov',\n",
    "          'Local-gov', '?', 'Self-emp-inc', 'Without-pay', 'Never-worked'])\n",
    "\n",
    "  # To show an example of hashing:\n",
    "  occupation = tf.feature_column.categorical_column_with_hash_bucket(\n",
    "      'occupation', hash_bucket_size=32)\n",
    "\n",
    "  # Transformations.\n",
    "  age_buckets = tf.feature_column.bucketized_column(\n",
    "      age, boundaries=[18, 25, 30, 35, 40, 45, 50, 55, 60, 65])\n",
    "\n",
    "  # Wide columns and deep columns.\n",
    "  base_columns = [\n",
    "      education, marital_status, relationship, workclass, occupation,\n",
    "      age_buckets,\n",
    "  ]\n",
    "\n",
    "  crossed_columns = [\n",
    "      tf.feature_column.crossed_column(\n",
    "          ['education', 'occupation'], hash_bucket_size=32),\n",
    "      tf.feature_column.crossed_column(\n",
    "          [age_buckets, 'education', 'occupation'],\n",
    "          hash_bucket_size=32),\n",
    "  ]\n",
    "\n",
    "  wide_columns = base_columns + crossed_columns\n",
    "\n",
    "  deep_columns = [\n",
    "      age,\n",
    "      education_num,\n",
    "      capital_gain,\n",
    "      capital_loss,\n",
    "      hours_per_week,\n",
    "      tf.feature_column.indicator_column(workclass),\n",
    "      tf.feature_column.indicator_column(education),\n",
    "      tf.feature_column.indicator_column(marital_status),\n",
    "      tf.feature_column.indicator_column(relationship),\n",
    "      # To show an example of embedding\n",
    "      tf.feature_column.embedding_column(occupation, dimension=8),\n",
    "  ]\n",
    "\n",
    "  return deep_columns"
   ]
  },
  {
   "cell_type": "code",
   "execution_count": 14,
   "metadata": {},
   "outputs": [],
   "source": [
    "deep_columns=build_model_columns()"
   ]
  },
  {
   "cell_type": "code",
   "execution_count": 15,
   "metadata": {},
   "outputs": [
    {
     "name": "stdout",
     "output_type": "stream",
     "text": [
      "INFO:tensorflow:Using default config.\n",
      "WARNING:tensorflow:Using temporary folder as model directory: C:\\Users\\Kaufman\\AppData\\Local\\Temp\\tmpz0r1zx9n\n",
      "INFO:tensorflow:Using config: {'_model_dir': 'C:\\\\Users\\\\Kaufman\\\\AppData\\\\Local\\\\Temp\\\\tmpz0r1zx9n', '_tf_random_seed': None, '_save_summary_steps': 100, '_save_checkpoints_steps': None, '_save_checkpoints_secs': 600, '_session_config': None, '_keep_checkpoint_max': 5, '_keep_checkpoint_every_n_hours': 10000, '_log_step_count_steps': 100, '_service': None, '_cluster_spec': <tensorflow.python.training.server_lib.ClusterSpec object at 0x000001707DED55F8>, '_task_type': 'worker', '_task_id': 0, '_global_id_in_cluster': 0, '_master': '', '_evaluation_master': '', '_is_chief': True, '_num_ps_replicas': 0, '_num_worker_replicas': 1}\n"
     ]
    }
   ],
   "source": [
    "classifier = tf.estimator.DNNClassifier(\n",
    "    feature_columns=deep_columns,\n",
    "    hidden_units=[10, 10],\n",
    "    n_classes=2)"
   ]
  },
  {
   "cell_type": "code",
   "execution_count": 18,
   "metadata": {},
   "outputs": [
    {
     "name": "stdout",
     "output_type": "stream",
     "text": [
      "INFO:tensorflow:Calling model_fn.\n",
      "INFO:tensorflow:Done calling model_fn.\n",
      "INFO:tensorflow:Create CheckpointSaverHook.\n",
      "INFO:tensorflow:Graph was finalized.\n",
      "INFO:tensorflow:Restoring parameters from C:\\Users\\Kaufman\\AppData\\Local\\Temp\\tmpz0r1zx9n\\model.ckpt-1000\n",
      "INFO:tensorflow:Running local_init_op.\n",
      "INFO:tensorflow:Done running local_init_op.\n",
      "INFO:tensorflow:Saving checkpoints for 1001 into C:\\Users\\Kaufman\\AppData\\Local\\Temp\\tmpz0r1zx9n\\model.ckpt.\n",
      "INFO:tensorflow:loss = 13.031178, step = 1001\n",
      "INFO:tensorflow:global_step/sec: 521.13\n",
      "INFO:tensorflow:loss = 9.766506, step = 1101 (0.193 sec)\n",
      "INFO:tensorflow:global_step/sec: 901.419\n",
      "INFO:tensorflow:loss = 7.340595, step = 1201 (0.111 sec)\n",
      "INFO:tensorflow:global_step/sec: 877.693\n",
      "INFO:tensorflow:loss = 6.1878996, step = 1301 (0.114 sec)\n",
      "INFO:tensorflow:global_step/sec: 877.693\n",
      "INFO:tensorflow:loss = 15.229997, step = 1401 (0.114 sec)\n",
      "INFO:tensorflow:global_step/sec: 901.417\n",
      "INFO:tensorflow:loss = 25.375515, step = 1501 (0.111 sec)\n",
      "INFO:tensorflow:global_step/sec: 885.468\n",
      "INFO:tensorflow:loss = 17.220001, step = 1601 (0.113 sec)\n",
      "INFO:tensorflow:global_step/sec: 901.417\n",
      "INFO:tensorflow:loss = 15.285234, step = 1701 (0.111 sec)\n",
      "INFO:tensorflow:global_step/sec: 885.463\n",
      "INFO:tensorflow:loss = 16.509426, step = 1801 (0.113 sec)\n",
      "INFO:tensorflow:global_step/sec: 840.818\n",
      "INFO:tensorflow:loss = 11.110983, step = 1901 (0.119 sec)\n",
      "INFO:tensorflow:global_step/sec: 730.342\n",
      "INFO:tensorflow:loss = 16.44264, step = 2001 (0.137 sec)\n",
      "INFO:tensorflow:global_step/sec: 730.349\n",
      "INFO:tensorflow:loss = 23.563969, step = 2101 (0.139 sec)\n",
      "INFO:tensorflow:global_step/sec: 769.666\n",
      "INFO:tensorflow:loss = 10.234985, step = 2201 (0.129 sec)\n",
      "INFO:tensorflow:global_step/sec: 800.443\n",
      "INFO:tensorflow:loss = 6.704909, step = 2301 (0.125 sec)\n",
      "INFO:tensorflow:global_step/sec: 752.328\n",
      "INFO:tensorflow:loss = 12.121259, step = 2401 (0.133 sec)\n",
      "INFO:tensorflow:global_step/sec: 769.662\n",
      "INFO:tensorflow:loss = 25.46221, step = 2501 (0.131 sec)\n",
      "INFO:tensorflow:global_step/sec: 800.463\n",
      "INFO:tensorflow:loss = 15.686003, step = 2601 (0.123 sec)\n",
      "INFO:tensorflow:global_step/sec: 855.192\n",
      "INFO:tensorflow:loss = 11.306443, step = 2701 (0.117 sec)\n",
      "INFO:tensorflow:global_step/sec: 725.06\n",
      "INFO:tensorflow:loss = 12.369334, step = 2801 (0.138 sec)\n",
      "INFO:tensorflow:global_step/sec: 730.341\n",
      "INFO:tensorflow:loss = 31.999283, step = 2901 (0.138 sec)\n",
      "INFO:tensorflow:global_step/sec: 877.695\n",
      "INFO:tensorflow:loss = 16.642569, step = 3001 (0.113 sec)\n",
      "INFO:tensorflow:global_step/sec: 870.065\n",
      "INFO:tensorflow:loss = 12.08673, step = 3101 (0.115 sec)\n",
      "INFO:tensorflow:global_step/sec: 877.701\n",
      "INFO:tensorflow:loss = 15.511527, step = 3201 (0.114 sec)\n",
      "INFO:tensorflow:global_step/sec: 840.815\n",
      "INFO:tensorflow:loss = 11.485151, step = 3301 (0.120 sec)\n",
      "INFO:tensorflow:global_step/sec: 581.164\n",
      "INFO:tensorflow:loss = 10.480619, step = 3401 (0.172 sec)\n",
      "INFO:tensorflow:global_step/sec: 763.812\n",
      "INFO:tensorflow:loss = 11.502739, step = 3501 (0.130 sec)\n",
      "INFO:tensorflow:global_step/sec: 885.461\n",
      "INFO:tensorflow:loss = 10.794693, step = 3601 (0.113 sec)\n",
      "INFO:tensorflow:global_step/sec: 885.465\n",
      "INFO:tensorflow:loss = 12.59927, step = 3701 (0.113 sec)\n",
      "INFO:tensorflow:global_step/sec: 870.13\n",
      "INFO:tensorflow:loss = 10.456142, step = 3801 (0.115 sec)\n",
      "INFO:tensorflow:global_step/sec: 847.939\n",
      "INFO:tensorflow:loss = 4.510939, step = 3901 (0.118 sec)\n",
      "INFO:tensorflow:global_step/sec: 862.562\n",
      "INFO:tensorflow:loss = 5.9890347, step = 4001 (0.116 sec)\n",
      "INFO:tensorflow:global_step/sec: 877.693\n",
      "INFO:tensorflow:loss = 12.253355, step = 4101 (0.114 sec)\n",
      "INFO:tensorflow:global_step/sec: 885.466\n",
      "INFO:tensorflow:loss = 8.820501, step = 4201 (0.113 sec)\n",
      "INFO:tensorflow:global_step/sec: 893.367\n",
      "INFO:tensorflow:loss = 5.0181036, step = 4301 (0.112 sec)\n",
      "INFO:tensorflow:global_step/sec: 870.065\n",
      "INFO:tensorflow:loss = 24.771118, step = 4401 (0.115 sec)\n",
      "INFO:tensorflow:global_step/sec: 877.693\n",
      "INFO:tensorflow:loss = 11.640747, step = 4501 (0.114 sec)\n",
      "INFO:tensorflow:global_step/sec: 741.698\n",
      "INFO:tensorflow:loss = 8.368374, step = 4601 (0.135 sec)\n",
      "INFO:tensorflow:global_step/sec: 296.908\n",
      "INFO:tensorflow:loss = 6.7789836, step = 4701 (0.337 sec)\n",
      "INFO:tensorflow:global_step/sec: 578.367\n",
      "INFO:tensorflow:loss = 9.101958, step = 4801 (0.173 sec)\n",
      "INFO:tensorflow:global_step/sec: 847.944\n",
      "INFO:tensorflow:loss = 5.5568447, step = 4901 (0.118 sec)\n",
      "INFO:tensorflow:global_step/sec: 840.818\n",
      "INFO:tensorflow:loss = 14.462515, step = 5001 (0.119 sec)\n",
      "INFO:tensorflow:global_step/sec: 855.19\n",
      "INFO:tensorflow:loss = 18.718842, step = 5101 (0.117 sec)\n",
      "INFO:tensorflow:global_step/sec: 855.186\n",
      "INFO:tensorflow:loss = 9.398689, step = 5201 (0.117 sec)\n",
      "INFO:tensorflow:global_step/sec: 862.566\n",
      "INFO:tensorflow:loss = 13.43869, step = 5301 (0.116 sec)\n",
      "INFO:tensorflow:global_step/sec: 847.946\n",
      "INFO:tensorflow:loss = 14.579443, step = 5401 (0.118 sec)\n",
      "INFO:tensorflow:global_step/sec: 667.046\n",
      "INFO:tensorflow:loss = 11.130185, step = 5501 (0.150 sec)\n",
      "INFO:tensorflow:global_step/sec: 719.838\n",
      "INFO:tensorflow:loss = 9.640566, step = 5601 (0.139 sec)\n",
      "INFO:tensorflow:global_step/sec: 855.188\n",
      "INFO:tensorflow:loss = 157.66351, step = 5701 (0.117 sec)\n",
      "INFO:tensorflow:global_step/sec: 877.699\n",
      "INFO:tensorflow:loss = 14.406372, step = 5801 (0.114 sec)\n",
      "INFO:tensorflow:global_step/sec: 862.561\n",
      "INFO:tensorflow:loss = 13.53745, step = 5901 (0.116 sec)\n",
      "INFO:tensorflow:global_step/sec: 847.942\n",
      "INFO:tensorflow:loss = 13.653669, step = 6001 (0.118 sec)\n",
      "INFO:tensorflow:global_step/sec: 901.419\n",
      "INFO:tensorflow:loss = 10.200333, step = 6101 (0.111 sec)\n",
      "INFO:tensorflow:global_step/sec: 943.942\n",
      "INFO:tensorflow:loss = 33.659348, step = 6201 (0.106 sec)\n",
      "INFO:tensorflow:global_step/sec: 893.363\n",
      "INFO:tensorflow:loss = 8.798355, step = 6301 (0.112 sec)\n",
      "INFO:tensorflow:global_step/sec: 926.457\n",
      "INFO:tensorflow:loss = 8.778309, step = 6401 (0.108 sec)\n",
      "INFO:tensorflow:global_step/sec: 901.413\n",
      "INFO:tensorflow:loss = 22.780933, step = 6501 (0.111 sec)\n",
      "INFO:tensorflow:global_step/sec: 847.949\n",
      "INFO:tensorflow:loss = 7.916236, step = 6601 (0.118 sec)\n",
      "INFO:tensorflow:global_step/sec: 893.365\n",
      "INFO:tensorflow:loss = 9.661108, step = 6701 (0.112 sec)\n",
      "INFO:tensorflow:global_step/sec: 855.19\n",
      "INFO:tensorflow:loss = 6.397927, step = 6801 (0.118 sec)\n",
      "INFO:tensorflow:global_step/sec: 787.855\n",
      "INFO:tensorflow:loss = 8.979876, step = 6901 (0.129 sec)\n",
      "INFO:tensorflow:global_step/sec: 704.629\n",
      "INFO:tensorflow:loss = 4.775962, step = 7001 (0.139 sec)\n",
      "INFO:tensorflow:global_step/sec: 877.695\n",
      "INFO:tensorflow:loss = 6.264804, step = 7101 (0.114 sec)\n",
      "INFO:tensorflow:global_step/sec: 901.417\n",
      "INFO:tensorflow:loss = 10.56032, step = 7201 (0.111 sec)\n",
      "INFO:tensorflow:global_step/sec: 877.697\n",
      "INFO:tensorflow:loss = 13.513016, step = 7301 (0.114 sec)\n",
      "INFO:tensorflow:global_step/sec: 877.697\n",
      "INFO:tensorflow:loss = 11.92839, step = 7401 (0.114 sec)\n",
      "INFO:tensorflow:global_step/sec: 877.692\n",
      "INFO:tensorflow:loss = 7.548637, step = 7501 (0.114 sec)\n",
      "INFO:tensorflow:global_step/sec: 877.699\n",
      "INFO:tensorflow:loss = 5.5767746, step = 7601 (0.114 sec)\n",
      "INFO:tensorflow:global_step/sec: 847.941\n",
      "INFO:tensorflow:loss = 8.252835, step = 7701 (0.118 sec)\n",
      "INFO:tensorflow:global_step/sec: 833.81\n",
      "INFO:tensorflow:loss = 9.425781, step = 7801 (0.120 sec)\n",
      "INFO:tensorflow:global_step/sec: 885.465\n",
      "INFO:tensorflow:loss = 13.005204, step = 7901 (0.113 sec)\n",
      "INFO:tensorflow:global_step/sec: 893.367\n",
      "INFO:tensorflow:loss = 11.488825, step = 8001 (0.112 sec)\n",
      "INFO:tensorflow:global_step/sec: 885.466\n",
      "INFO:tensorflow:loss = 7.203602, step = 8101 (0.113 sec)\n",
      "INFO:tensorflow:global_step/sec: 870.063\n",
      "INFO:tensorflow:loss = 5.733181, step = 8201 (0.115 sec)\n",
      "INFO:tensorflow:global_step/sec: 893.369\n",
      "INFO:tensorflow:loss = 11.866217, step = 8301 (0.112 sec)\n",
      "INFO:tensorflow:global_step/sec: 877.697\n",
      "INFO:tensorflow:loss = 12.487025, step = 8401 (0.114 sec)\n",
      "INFO:tensorflow:global_step/sec: 909.608\n",
      "INFO:tensorflow:loss = 11.310753, step = 8501 (0.111 sec)\n",
      "INFO:tensorflow:global_step/sec: 893.369\n",
      "INFO:tensorflow:loss = 9.988455, step = 8601 (0.111 sec)\n",
      "INFO:tensorflow:global_step/sec: 492.89\n",
      "INFO:tensorflow:loss = 12.272439, step = 8701 (0.204 sec)\n",
      "INFO:tensorflow:global_step/sec: 377.577\n",
      "INFO:tensorflow:loss = 5.4258885, step = 8801 (0.264 sec)\n",
      "INFO:tensorflow:global_step/sec: 645.53\n"
     ]
    },
    {
     "name": "stdout",
     "output_type": "stream",
     "text": [
      "INFO:tensorflow:loss = 9.805748, step = 8901 (0.160 sec)\n",
      "INFO:tensorflow:global_step/sec: 781.698\n",
      "INFO:tensorflow:loss = 12.983517, step = 9001 (0.123 sec)\n",
      "INFO:tensorflow:global_step/sec: 926.459\n",
      "INFO:tensorflow:loss = 10.431665, step = 9101 (0.108 sec)\n",
      "INFO:tensorflow:global_step/sec: 943.932\n",
      "INFO:tensorflow:loss = 16.197224, step = 9201 (0.106 sec)\n",
      "INFO:tensorflow:global_step/sec: 943.942\n",
      "INFO:tensorflow:loss = 7.9439125, step = 9301 (0.106 sec)\n",
      "INFO:tensorflow:global_step/sec: 840.817\n",
      "INFO:tensorflow:loss = 7.3609705, step = 9401 (0.121 sec)\n",
      "INFO:tensorflow:global_step/sec: 769.671\n",
      "INFO:tensorflow:loss = 8.012523, step = 9501 (0.129 sec)\n",
      "INFO:tensorflow:global_step/sec: 787.852\n",
      "INFO:tensorflow:loss = 14.100448, step = 9601 (0.126 sec)\n",
      "INFO:tensorflow:global_step/sec: 926.455\n",
      "INFO:tensorflow:loss = 8.767084, step = 9701 (0.108 sec)\n",
      "INFO:tensorflow:global_step/sec: 917.96\n",
      "INFO:tensorflow:loss = 20.028183, step = 9801 (0.110 sec)\n",
      "INFO:tensorflow:global_step/sec: 826.922\n",
      "INFO:tensorflow:loss = 9.351112, step = 9901 (0.120 sec)\n",
      "INFO:tensorflow:global_step/sec: 781.695\n",
      "INFO:tensorflow:loss = 10.441114, step = 10001 (0.128 sec)\n",
      "INFO:tensorflow:global_step/sec: 840.817\n",
      "INFO:tensorflow:loss = 18.17077, step = 10101 (0.119 sec)\n",
      "INFO:tensorflow:global_step/sec: 909.606\n",
      "INFO:tensorflow:loss = 6.192322, step = 10201 (0.111 sec)\n",
      "INFO:tensorflow:global_step/sec: 813.48\n",
      "INFO:tensorflow:loss = 163.78383, step = 10301 (0.122 sec)\n",
      "INFO:tensorflow:global_step/sec: 813.475\n",
      "INFO:tensorflow:loss = 11.797396, step = 10401 (0.123 sec)\n",
      "INFO:tensorflow:global_step/sec: 833.808\n",
      "INFO:tensorflow:loss = 10.804701, step = 10501 (0.120 sec)\n",
      "INFO:tensorflow:global_step/sec: 926.459\n",
      "INFO:tensorflow:loss = 8.881282, step = 10601 (0.108 sec)\n",
      "INFO:tensorflow:global_step/sec: 840.818\n",
      "INFO:tensorflow:loss = 11.687614, step = 10701 (0.119 sec)\n",
      "INFO:tensorflow:global_step/sec: 870.061\n",
      "INFO:tensorflow:loss = 14.15682, step = 10801 (0.115 sec)\n",
      "INFO:tensorflow:global_step/sec: 893.371\n",
      "INFO:tensorflow:loss = 13.598849, step = 10901 (0.112 sec)\n",
      "INFO:tensorflow:Saving checkpoints for 11000 into C:\\Users\\Kaufman\\AppData\\Local\\Temp\\tmpz0r1zx9n\\model.ckpt.\n",
      "INFO:tensorflow:Loss for final step: 12.092052.\n"
     ]
    },
    {
     "data": {
      "text/plain": [
       "<tensorflow.python.estimator.canned.dnn.DNNClassifier at 0x1707ded54a8>"
      ]
     },
     "execution_count": 18,
     "metadata": {},
     "output_type": "execute_result"
    }
   ],
   "source": [
    "classifier.train(\n",
    "input_fn=lambda:input_fn(train_file,10,False,32),\n",
    "steps=10000)"
   ]
  },
  {
   "cell_type": "code",
   "execution_count": 19,
   "metadata": {
    "scrolled": true
   },
   "outputs": [
    {
     "name": "stdout",
     "output_type": "stream",
     "text": [
      "INFO:tensorflow:Calling model_fn.\n",
      "INFO:tensorflow:Done calling model_fn.\n",
      "INFO:tensorflow:Starting evaluation at 2019-04-13-15:44:35\n",
      "INFO:tensorflow:Graph was finalized.\n",
      "INFO:tensorflow:Restoring parameters from C:\\Users\\Kaufman\\AppData\\Local\\Temp\\tmpz0r1zx9n\\model.ckpt-11000\n",
      "INFO:tensorflow:Running local_init_op.\n",
      "INFO:tensorflow:Done running local_init_op.\n",
      "INFO:tensorflow:Finished evaluation at 2019-04-13-15:44:36\n",
      "INFO:tensorflow:Saving dict for global step 11000: accuracy = 0.84294575, accuracy_baseline = 0.76377374, auc = 0.8950085, auc_precision_recall = 0.74177814, average_loss = 0.34238446, global_step = 11000, label/mean = 0.23622628, loss = 10.951594, prediction/mean = 0.23922005\n"
     ]
    }
   ],
   "source": [
    "results = classifier.evaluate(input_fn=lambda:input_fn(eval_file,1,False,32))"
   ]
  },
  {
   "cell_type": "code",
   "execution_count": null,
   "metadata": {},
   "outputs": [],
   "source": []
  }
 ],
 "metadata": {
  "kernelspec": {
   "display_name": "Python 3",
   "language": "python",
   "name": "python3"
  },
  "language_info": {
   "codemirror_mode": {
    "name": "ipython",
    "version": 3
   },
   "file_extension": ".py",
   "mimetype": "text/x-python",
   "name": "python",
   "nbconvert_exporter": "python",
   "pygments_lexer": "ipython3",
   "version": "3.6.5"
  }
 },
 "nbformat": 4,
 "nbformat_minor": 2
}
